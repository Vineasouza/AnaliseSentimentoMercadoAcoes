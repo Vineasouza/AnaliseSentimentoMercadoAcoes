{
 "cells": [
  {
   "cell_type": "markdown",
   "metadata": {},
   "source": [
    "### Lib Imports "
   ]
  },
  {
   "cell_type": "code",
   "execution_count": 1,
   "metadata": {},
   "outputs": [],
   "source": [
    "import re\n",
    "import socket\n",
    "import json\n",
    "import tweepy\n",
    "import settings\n",
    "import pandas\n",
    "from tweepy import OAuthHandler, Stream\n",
    "from tweepy.streaming import StreamListener\n",
    "from pandas.io.json import json_normalize"
   ]
  },
  {
   "cell_type": "markdown",
   "metadata": {},
   "source": [
    "### KEYS for TWITTER API Auth "
   ]
  },
  {
   "cell_type": "code",
   "execution_count": 2,
   "metadata": {},
   "outputs": [],
   "source": [
    "consumer_key = settings.ENV['CONSUMER_KEY']\n",
    "consumer_secret = settings.ENV['CONSUMER_SECRET']\n",
    "access_token = settings.ENV['ACCESS_KEY']\n",
    "access_secret = settings.ENV['ACCESS_SECRET']"
   ]
  },
  {
   "cell_type": "markdown",
   "metadata": {},
   "source": [
    "### Define regex pattern "
   ]
  },
  {
   "cell_type": "code",
   "execution_count": 3,
   "metadata": {},
   "outputs": [],
   "source": [
    "pattern = re.compile(r\"#?AZUL4|Azul|#?BBAS3|#?BB|BANCO DO BRASIL|#?BBDC[34]|BRADESCO|#?BBSE3|BBSE|BB SEGURIDADE|#?BRAP4|BRADESPAR|#?BRDT3|#?PETR[34]?|BR DISTRIBUIDORA|PETROBR[AÁ]S|#?BRFS3|BRF|#?BRKM5|BRASKEM|#?BRML3|BR MALLS|#?BTOW3|B2W|#?CCRO3|CCR|#?CIEL3|CIELO|#?CMIG4|CEMIG|#?CSAN3|COSAN|#?CSNA3|CSN|#?CVCB3|CVC|#?CYRE3|CYRELA|#?ECOR3|ECORODOVIAS|#?B3SA3|B3|#?EGIE3|ENGIE BRASIL|ENGIE|#?ELET[36]|ELETROBRAS|#?EMBR3|EMBRAER|#?ENBR3|Energias|#?EQTL3|Equatorial|#?ESTC3|ESTACIO|#?FLRY3|FLEURY|#?GGBR4|GOAU4|GERDAU|#?GOLL4|Gol|#?HYPE3|HYPERA|#?IGTA3|IGUATEMI|#?IRBR3|IRB BRASIL|IRB BRASIL RE|IRB|#?ITSA4|ITAÚSA|#?ITUB4|ITAÚ UNIBANCO|ITA[ÚU]|#?JBSS3|JBS|#?KLBN11|KLABIN|#?KROT3|KROTON|#?LAME4|Americanas|Lojas Americanas|#?LREN3|LOJAS RENNER|RENNER|#?MGLU3|MAGAZINE LUIZA|#?MRFG3|MARFRIG|#?MRVE3|MRV|#?MULT3|MULTIPLAN|#?NATU3|Natura|#?PCAR[34]?|PÃO DE AÇÚCAR|#?QUAL3|QUALICORP|#?RADL3|RAIA DROGASIL|#?RAIL3|Rumo|#?RENT3|Localiza|#?SANB11|SANTANDER|#?SBSP3|SABESP|#?SMLS3|SMILES|#?SUZB3|SUZANO|#?TAEE11|TAESA|#?TIMP3|TIM|#?UGPA3|ULTRAPAR|#?USIM5|USIMINAS|#?VALE3?|Vale|#?VIVT4|Telefônica Brasil|Vivo|#?VVAR3|VIA VAREJO|#?WEGE3|WEG\",  re.IGNORECASE)"
   ]
  },
  {
   "cell_type": "markdown",
   "metadata": {},
   "source": [
    "###  TWITTER STREAM LISTENER "
   ]
  },
  {
   "cell_type": "code",
   "execution_count": 4,
   "metadata": {},
   "outputs": [],
   "source": [
    "class TweetListener(StreamListener):\n",
    "    def __init__(self,csocket):\n",
    "        self.client_socket = csocket \n",
    "    def on_data(self, data):\n",
    "        try:\n",
    "            tweet = json.loads(data)\n",
    "            \n",
    "            # remove links\n",
    "            tweet['text'] = re.sub(r\"http\\S+\", \"\", tweet['text'])\n",
    "            \n",
    "            # apply search regex\n",
    "            if re.search(pattern, tweet['text']):\n",
    "                print(tweet['text'].encode('utf-8'))\n",
    "                \n",
    "                # save raw_data\n",
    "                with open('raw_data.json', 'a') as tf:\n",
    "                    tf.write(data)\n",
    "                \n",
    "                #send data via socket\n",
    "                self.client_socket.send(tweet['text'].encode('utf-8'))\n",
    "            else:\n",
    "                #print(\"match not found on: \") \n",
    "                #print(tweet['text'].encode('utf-8'))\n",
    "                #send data via socket\n",
    "                #self.client_socket.send(tweet['text'].encode('utf-8'))\n",
    "                pass\n",
    "            return True\n",
    "        except BaseException as e:\n",
    "            print(\"Error on_data: %s\" % str(e))\n",
    "        return True\n",
    "    def on_error(self, status):\n",
    "        if status == 420:\n",
    "            # Returning False on_data method in case rate limit occurs.\n",
    "            return False\n",
    "        print(status)\n",
    "        return True\n",
    "        "
   ]
  },
  {
   "cell_type": "markdown",
   "metadata": {},
   "source": [
    "### Define accounts to fetch the data"
   ]
  },
  {
   "cell_type": "code",
   "execution_count": 5,
   "metadata": {},
   "outputs": [],
   "source": [
    "#AgenciaEstado : 75289487 | leiamoneytimes: 51150679 | valor_ri: 104214965 | valorinveste: 1113533606247436289 | valoreconomico: 32529120 | EstadaoEconomia: 78774644 | InvestingBrasil: 49292227 | infomoney: 59773459 | ReutersBrasil: 17711232 | colunadobroad: 791391509631336448 \n",
    "follow_busca = [\"75289487\", \"51150679\", \"104214965\", \"1113533606247436289\", \"32529120\", \"78774644\", \"49292227\", \"59773459\", \"17711232\", \"791391509631336448\"]"
   ]
  },
  {
   "cell_type": "markdown",
   "metadata": {},
   "source": [
    "### API auth to send data"
   ]
  },
  {
   "cell_type": "code",
   "execution_count": 6,
   "metadata": {},
   "outputs": [],
   "source": [
    "def sendData(c_socket):\n",
    "    auth = tweepy.OAuthHandler(consumer_key, consumer_secret)\n",
    "    auth.set_access_token(access_token, access_secret)\n",
    "    twitter_stream = Stream(auth, TweetListener(c_socket))\n",
    "    twitter_stream.filter(languages=[\"pt\"],follow=follow_busca)"
   ]
  },
  {
   "cell_type": "markdown",
   "metadata": {},
   "source": [
    "### Define the socket "
   ]
  },
  {
   "cell_type": "code",
   "execution_count": 7,
   "metadata": {},
   "outputs": [
    {
     "name": "stdout",
     "output_type": "stream",
     "text": [
      "Listening on port: 8181\n"
     ]
    }
   ],
   "source": [
    "s = socket.socket()\n",
    "host = \"127.0.0.1\"\n",
    "port = 8181\n",
    "s.bind((host, port))\n",
    "\n",
    "print(\"Listening on port: %s\" % str(port))"
   ]
  },
  {
   "cell_type": "markdown",
   "metadata": {},
   "source": [
    "### Listen the open socket"
   ]
  },
  {
   "cell_type": "code",
   "execution_count": 8,
   "metadata": {},
   "outputs": [
    {
     "name": "stdout",
     "output_type": "stream",
     "text": [
      "Received request form ('127.0.0.1', 49618)\n"
     ]
    }
   ],
   "source": [
    "s.listen(1)\n",
    "c, addr = s.accept()\n",
    "\n",
    "print(\"Received request form \" + str(addr))"
   ]
  },
  {
   "cell_type": "markdown",
   "metadata": {},
   "source": [
    "### Send the data and show "
   ]
  },
  {
   "cell_type": "code",
   "execution_count": 9,
   "metadata": {
    "scrolled": false
   },
   "outputs": [
    {
     "name": "stdout",
     "output_type": "stream",
     "text": [
      "b'RT @leiamoneytimes: Fiocruz avalia condi\\xc3\\xa7\\xc3\\xb5es de trabalho na sa\\xc3\\xbade durante a pandemia   #Brasil #Conass #Coronav\\xc3\\xadrus\\xe2\\x80\\xa6'\n",
      "b'Banc\\xc3\\xb5es ir\\xc3\\xa3o pagar mais R$ 6 bilh\\xc3\\xb5es em impostos. Quem ir\\xc3\\xa1 \"sofrer\" mais? #bancos #empresas #ITUB4 #BBDC4 #SANB11\\xe2\\x80\\xa6 '\n",
      "b'@leiamoneytimes Quem ir\\xc3\\xa1 \"sofrer\" mais?\\nacionista de BBDC4'\n",
      "b'Trinta startups v\\xc3\\xa3o para a fase final de edital da Petrobras e Sebrae\\n'\n",
      "b'A\\xc3\\xa7\\xc3\\xb5es da Weg fecham em alta de 13,9% ap\\xc3\\xb3s divulga\\xc3\\xa7\\xc3\\xa3o de balan\\xc3\\xa7o \\xc3\\xa0 prova de coronav\\xc3\\xadrus '\n",
      "b'RT @valorinveste: Trinta startups v\\xc3\\xa3o para a fase final de edital da Petrobras e Sebrae\\n'\n",
      "b'RT @valorinveste: Trinta startups v\\xc3\\xa3o para a fase final de edital da Petrobras e Sebrae\\n'\n",
      "b'RT @leiamoneytimes: PIB cai menos que o previsto, diz secret\\xc3\\xa1rio especial de Fazenda  #Coronav\\xc3\\xadrus #Economia #IOF #J\\xe2\\x80\\xa6'\n",
      "b'A\\xc3\\xa7\\xc3\\xb5es da B2W encerram o preg\\xc3\\xa3o em alta de 5,3% '\n",
      "b'RT @leiamoneytimes: Oi recebe proposta de gestora norte-americana Digital Colony por ativos m\\xc3\\xb3veis \\n#oibr3 #oibr4 #oi\\n'\n",
      "b'RT @leiamoneytimes: Oi recebe proposta de gestora norte-americana Digital Colony por ativos m\\xc3\\xb3veis \\n#oibr3 #oibr4 #oi\\n'\n",
      "b'RT @EstadaoEconomia: Associa\\xc3\\xa7\\xc3\\xa3o estima que as compras do Pa\\xc3\\xads no exterior ficar\\xc3\\xa3o em US$ 145,255 bilh\\xc3\\xb5es este ano, um tombo de 18,1% em rel\\xe2\\x80\\xa6'\n",
      "b'RT @leiamoneytimes: D\\xc3\\xa9ficit prim\\xc3\\xa1rio dever\\xc3\\xa1 encerrar 2020 em R$ 787,45 bilh\\xc3\\xb5es   #BancoCentral #Coronav\\xc3\\xadrus #Economi\\xe2\\x80\\xa6'\n",
      "b'RT @EstadaoEconomia: At\\xc3\\xa9 o pr\\xc3\\xa9-sal, um dos maiores investimentos da estatal, sofreu com o avan\\xc3\\xa7o do coronav\\xc3\\xadrus e registrou queda de 1% na\\xe2\\x80\\xa6'\n",
      "b'RT @EstadaoEconomia: Levantamento feito com gestores de recursos, analistas de investimentos e investidores aponta que 90% deles consideram\\xe2\\x80\\xa6'\n",
      "b'Ap\\xc3\\xb3s extraviar mala de cliente na ida e na volta, Azul dever\\xc3\\xa1 pagar indeniza\\xc3\\xa7\\xc3\\xa3o de R$ 10 mil '\n",
      "b'RT @leiamoneytimes: A\\xc3\\xa7\\xc3\\xb5es da B2W encerram o preg\\xc3\\xa3o em alta de 5,3% '\n",
      "b'RT @leiamoneytimes: Oi recebe proposta de gestora norte-americana Digital Colony por ativos m\\xc3\\xb3veis \\n#oibr3 #oibr4 #oi\\n'\n",
      "b'@infomoney Rumo aos 100 #weg3 '\n",
      "b'Cemig decide suspender proje\\xc3\\xa7\\xc3\\xb5es financeiras #CMIG4 #empresas #energia\\n'\n",
      "b'Cemig suspende proje\\xc3\\xa7\\xc3\\xb5es financeiras para 2020 por causa de pandemia\\n'\n",
      "b'RT @leiamoneytimes: Oi recebe proposta de gestora norte-americana Digital Colony por ativos m\\xc3\\xb3veis \\n#oibr3 #oibr4 #oi\\n'\n",
      "b'RT @leiamoneytimes: JHSF vai reabrir Hotel Fasano Angra dos Reis em 15 de agosto #JHSF3 #empresas #im\\xc3\\xb3veis #fasano #coronav\\xc3\\xadrus\\n'\n",
      "b'Analistas avaliam possibilidade de uni\\xc3\\xa3o entre Latam Brasil e Azul \\n'\n",
      "b'RT @leiamoneytimes: JHSF vai reabrir Hotel Fasano Angra dos Reis em 15 de agosto #JHSF3 #empresas #im\\xc3\\xb3veis #fasano #coronav\\xc3\\xadrus\\n'\n",
      "b'RT @leiamoneytimes: Banc\\xc3\\xb5es ir\\xc3\\xa3o pagar mais R$ 6 bilh\\xc3\\xb5es em impostos. Quem ir\\xc3\\xa1 \"sofrer\" mais? #bancos #empresas #ITUB4 #BBDC4 #SANB11 #pol\\xc3\\xad\\xe2\\x80\\xa6'\n",
      "b'RT @leiamoneytimes: JHSF vai reabrir Hotel Fasano Angra dos Reis em 15 de agosto #JHSF3 #empresas #im\\xc3\\xb3veis #fasano #coronav\\xc3\\xadrus\\n'\n",
      "b'RT @valorinveste: Cemig suspende proje\\xc3\\xa7\\xc3\\xb5es financeiras para 2020 por causa de pandemia\\n'\n",
      "b'RT @leiamoneytimes: Ap\\xc3\\xb3s extraviar mala de cliente na ida e na volta, Azul dever\\xc3\\xa1 pagar indeniza\\xc3\\xa7\\xc3\\xa3o de R$ 10 mil '\n",
      "b'AO VIVO | Waldery Rodrigues conversa ao vivo com o InfoMoney sobre a volta das reformas e as respostas do governo \\xc3\\xa0\\xe2\\x80\\xa6 '\n",
      "b'@leiamoneytimes Dizem q est\\xc3\\xa3o fornecendo motores pra tesla.\\nSer\\xc3\\xa1 q \\xc3\\xa9 verdade?\\n\\n\\xf0\\x9f\\xa4\\xa3\\xf0\\x9f\\xa4\\xa3\\xf0\\x9f\\xa4\\xa3\\xf0\\x9f\\xa4\\xa3\\xf0\\x9f\\x98\\xac'\n",
      "b'RT @leiamoneytimes: JHSF vai reabrir Hotel Fasano Angra dos Reis em 15 de agosto #JHSF3 #empresas #im\\xc3\\xb3veis #fasano #coronav\\xc3\\xadrus\\n'\n",
      "b'RT @leiamoneytimes: JHSF vai reabrir Hotel Fasano Angra dos Reis em 15 de agosto #JHSF3 #empresas #im\\xc3\\xb3veis #fasano #coronav\\xc3\\xadrus\\n'\n",
      "b'RT @infomoney: AO VIVO | Waldery Rodrigues conversa ao vivo com o InfoMoney sobre a volta das reformas e as respostas do governo \\xc3\\xa0 pandemia\\xe2\\x80\\xa6'\n",
      "b'RT @leiamoneytimes: A\\xc3\\xa7\\xc3\\xb5es da Weg fecham em alta de 13,9% ap\\xc3\\xb3s divulga\\xc3\\xa7\\xc3\\xa3o de balan\\xc3\\xa7o \\xc3\\xa0 prova de coronav\\xc3\\xadrus '\n",
      "b'Vale cria Comit\\xc3\\xaa de Nomea\\xc3\\xa7\\xc3\\xa3o para melhorar estrutura organizacional #VALE3 #empresas #carreiras #minera\\xc3\\xa7\\xc3\\xa3o\\n'\n",
      "b'B2W ir\\xc3\\xa1 lucrar 100% a mais e Cogna 70% a menos em 2021? Veja proje\\xc3\\xa7\\xc3\\xb5es pr\\xc3\\xa9 e p\\xc3\\xb3s-covid para as empresas do Ibovespa\\xe2\\x80\\xa6 '\n",
      "b'RT @leiamoneytimes: B2W ir\\xc3\\xa1 lucrar 100% a mais e Cogna 70% a menos em 2021? Veja proje\\xc3\\xa7\\xc3\\xb5es pr\\xc3\\xa9 e p\\xc3\\xb3s-covid para as empresas do Ibovespa #b2\\xe2\\x80\\xa6'\n",
      "b'RT @leiamoneytimes: B2W ir\\xc3\\xa1 lucrar 100% a mais e Cogna 70% a menos em 2021? Veja proje\\xc3\\xa7\\xc3\\xb5es pr\\xc3\\xa9 e p\\xc3\\xb3s-covid para as empresas do Ibovespa #b2\\xe2\\x80\\xa6'\n",
      "b'RT @infomoney: Weg: \"tech\" brasileira salta 100% no ano e anima por diversifica\\xc3\\xa7\\xc3\\xa3o, mas pre\\xc3\\xa7o da a\\xc3\\xa7\\xc3\\xa3o assusta analistas '\n",
      "b'Petrobras vai pagar R$ 1,7 bilh\\xc3\\xa3o em dividendos a investidores em 15 de dezembro\\n'\n",
      "b'RT @valorinveste: Petrobras vai pagar R$ 1,7 bilh\\xc3\\xa3o em dividendos a investidores em 15 de dezembro\\n'\n",
      "b'RT @leiamoneytimes: Pedidos de seguro-desemprego no Brasil caem 1,9% na primeira quinzena de julho \\n#emprego #desemprego\\n'\n",
      "b'Vale anuncia cria\\xc3\\xa7\\xc3\\xa3o de comit\\xc3\\xaa de nomea\\xc3\\xa7\\xc3\\xa3o para conselho de administra\\xc3\\xa7\\xc3\\xa3o\\n'\n",
      "b'RT @leiamoneytimes: Ventiladores pulmonares para covid-19 s\\xc3\\xa3o testados com sucesso na UFRJ  #Anvisa #Coronav\\xc3\\xadrus #In\\xe2\\x80\\xa6'\n",
      "b'RT @valorinveste: Petrobras vai pagar R$ 1,7 bilh\\xc3\\xa3o em dividendos a investidores em 15 de dezembro\\n'\n",
      "b'RT @leiamoneytimes: Pedidos de seguro-desemprego no Brasil caem 1,9% na primeira quinzena de julho \\n#emprego #desemprego\\n'\n",
      "b'RT @leiamoneytimes: Vale cria Comit\\xc3\\xaa de Nomea\\xc3\\xa7\\xc3\\xa3o para melhorar estrutura organizacional #VALE3 #empresas #carreiras #minera\\xc3\\xa7\\xc3\\xa3o\\n'\n",
      "b'RT @leiamoneytimes: Ibovespa fecha est\\xc3\\xa1vel em dia com salto de Weg ap\\xc3\\xb3s resultado \\n#ibovespa\\n'\n",
      "b'@valoreconomico @jairbolsonaro GENOCIDA DESGRA\\xc3\\x87ADO'\n",
      "b'RT @leiamoneytimes: Brasil registra novo recorde de casos de coronav\\xc3\\xadrus com mais 67.860 infec\\xc3\\xa7\\xc3\\xb5es \\n#brasil #sa\\xc3\\xbade #coronav\\xc3\\xadrus\\n'\n",
      "b'Petrobras pagar\\xc3\\xa1 R$ 1,7 bilh\\xc3\\xa3o em dividendos #PETR3 #PETR4 #a\\xc3\\xa7\\xc3\\xb5es #empresas #petr\\xc3\\xb3leo #dividendos\\n'\n",
      "b'RT @leiamoneytimes: Renner \\xc3\\xa9 a rede de vestu\\xc3\\xa1rio mais bem posicionada na crise, aponta Inter Research '\n",
      "b'@leiamoneytimes Pq esse valor t\\xc3\\xa3o baixo pras a\\xc3\\xa7\\xc3\\xb5es preferenciais?'\n",
      "b'RT @leiamoneytimes: Testes confirmam efic\\xc3\\xa1cia de tecido antiviral contra novo coronav\\xc3\\xadrus  #Anvisa #Coronav\\xc3\\xadrus #Sa\\xc3\\xba\\xe2\\x80\\xa6'\n",
      "b'@valoreconomico Parab\\xc3\\xa9ns pro presidente @jairbolsonaro, pro governadores @wilsonwitzel @jdoriajr @RomeuZema\\xe2\\x80\\xa6 '\n",
      "b'Grupo P\\xc3\\xa3o de A\\xc3\\xa7\\xc3\\xbacar vende 16 im\\xc3\\xb3veis \\xc3\\xa0 TRX por R$ 446,2 milh\\xc3\\xb5es\\n'\n",
      "b'Bradesco, Ita\\xc3\\xba e Santander lan\\xc3\\xa7am plano para promover desenvolvimento sustent\\xc3\\xa1vel na Amaz\\xc3\\xb4nia '\n",
      "b'RT @infomoney: Bradesco, Ita\\xc3\\xba e Santander lan\\xc3\\xa7am plano para promover desenvolvimento sustent\\xc3\\xa1vel na Amaz\\xc3\\xb4nia '\n",
      "b'RT @infomoney: Bradesco, Ita\\xc3\\xba e Santander lan\\xc3\\xa7am plano para promover desenvolvimento sustent\\xc3\\xa1vel na Amaz\\xc3\\xb4nia '\n",
      "b'RT @leiamoneytimes: Novo teste positivo de Bolsonaro frustra retomada de viagens e agenda positiva do governo   #Bah\\xe2\\x80\\xa6'\n",
      "b'@EstadaoEconomia Ano passado ,5,76 % ano ,hj 2,76 % ao m\\xc3\\xaas ,como pegar empr\\xc3\\xa9stimo nesse patamar e o gerente disse q\\xe2\\x80\\xa6 '\n"
     ]
    },
    {
     "name": "stdout",
     "output_type": "stream",
     "text": [
      "b'RT @leiamoneytimes: Internacional EUA d\\xc3\\xa3o \\xc3\\xa0 China 72 horas para fechar consulado de Houston  #China #Coronav\\xc3\\xadrus #EU\\xe2\\x80\\xa6'\n",
      "b'RT @RicardoBomfim91: Empresa de alta tecnologia no mercado brasileiro? Conhe\\xc3\\xa7a a Weg nesta mat\\xc3\\xa9ria que eu escrevi para o @infomoney e saiba\\xe2\\x80\\xa6'\n",
      "b'Projeto dos tr\\xc3\\xaas maiores bancos do Pa\\xc3\\xads prev\\xc3\\xaa financiamento para viabilizar investimentos e desenvolver a infraestr\\xe2\\x80\\xa6 '\n",
      "b'No encontro de Bradesco, Ita\\xc3\\xba e Santander com membros do governo, foram discutidas medidas sobre preserva\\xc3\\xa7\\xc3\\xa3o e bioe\\xe2\\x80\\xa6 '\n",
      "b'RT @infomoney: Bradesco, Ita\\xc3\\xba e Santander lan\\xc3\\xa7am plano para promover desenvolvimento sustent\\xc3\\xa1vel na Amaz\\xc3\\xb4nia '\n",
      "b'Marfrig divulgar\\xc3\\xa1 plano de a\\xc3\\xa7\\xc3\\xa3o socioambiental nesta quinta-feira #MRFG3 #empresas #frigor\\xc3\\xadficos #sustentabilidade\\xe2\\x80\\xa6 '\n",
      "b'RT @RicardoBomfim91: Empresa de alta tecnologia no mercado brasileiro? Conhe\\xc3\\xa7a a Weg nesta mat\\xc3\\xa9ria que eu escrevi para o @infomoney e saiba\\xe2\\x80\\xa6'\n",
      "b'RT @EstadaoEconomia: Projeto dos tr\\xc3\\xaas maiores bancos do Pa\\xc3\\xads prev\\xc3\\xaa financiamento para viabilizar investimentos e desenvolver a infraestrutu\\xe2\\x80\\xa6'\n",
      "b'RT @leiamoneytimes: Fiat reformula marca pela 5\\xc2\\xaa vez no Brasil para mudar percep\\xc3\\xa7\\xc3\\xa3o dos consumidores   #Brasil #Coro\\xe2\\x80\\xa6'\n",
      "b'RT @leiamoneytimes: Fiat reformula marca pela 5\\xc2\\xaa vez no Brasil para mudar percep\\xc3\\xa7\\xc3\\xa3o dos consumidores   #Brasil #Coro\\xe2\\x80\\xa6'\n",
      "b'RT @EstadaoEconomia: Projeto dos tr\\xc3\\xaas maiores bancos do Pa\\xc3\\xads prev\\xc3\\xaa financiamento para viabilizar investimentos e desenvolver a infraestrutu\\xe2\\x80\\xa6'\n",
      "b'Petrobras aumenta em 5% valor de g\\xc3\\xa1s de cozinha a partir de quinta-feira \\n#petrobras\\n'\n",
      "b'RT @leiamoneytimes: JHSF vai reabrir Hotel Fasano Angra dos Reis em 15 de agosto #JHSF3 #empresas #im\\xc3\\xb3veis #fasano #coronav\\xc3\\xadrus\\n'\n",
      "b'RT @leiamoneytimes: Barroso indica representantes para acompanhar conten\\xc3\\xa7\\xc3\\xa3o de Covid-19 em aldeias ind\\xc3\\xadgenas \\n#coronav\\xc3\\xadrus #stf\\n'\n",
      "b'RT @leiamoneytimes: A\\xc3\\xa7\\xc3\\xb5es da Weg fecham em alta de 13,9% ap\\xc3\\xb3s divulga\\xc3\\xa7\\xc3\\xa3o de balan\\xc3\\xa7o \\xc3\\xa0 prova de coronav\\xc3\\xadrus '\n",
      "b'RT @leiamoneytimes: Petrobras pagar\\xc3\\xa1 R$ 1,7 bilh\\xc3\\xa3o em dividendos #PETR3 #PETR4 #a\\xc3\\xa7\\xc3\\xb5es #empresas #petr\\xc3\\xb3leo #dividendos\\n'\n",
      "b'RT @RicardoBomfim91: Empresa de alta tecnologia no mercado brasileiro? Conhe\\xc3\\xa7a a Weg nesta mat\\xc3\\xa9ria que eu escrevi para o @infomoney e saiba\\xe2\\x80\\xa6'\n",
      "b'RT @leiamoneytimes: Marfrig divulgar\\xc3\\xa1 plano de a\\xc3\\xa7\\xc3\\xa3o socioambiental nesta quinta-feira #MRFG3 #empresas #frigor\\xc3\\xadficos #sustentabilidade #car\\xe2\\x80\\xa6'\n",
      "b'RT @leiamoneytimes: Barroso indica representantes para acompanhar conten\\xc3\\xa7\\xc3\\xa3o de Covid-19 em aldeias ind\\xc3\\xadgenas \\n#coronav\\xc3\\xadrus #stf\\n'\n",
      "b'@leiamoneytimes Acelera isso a\\xc3\\xad! O Brasil precisa!'\n",
      "b'RT @RicardoBomfim91: Empresa de alta tecnologia no mercado brasileiro? Conhe\\xc3\\xa7a a Weg nesta mat\\xc3\\xa9ria que eu escrevi para o @infomoney e saiba\\xe2\\x80\\xa6'\n",
      "b'RT @infomoney: Bradesco, Ita\\xc3\\xba e Santander lan\\xc3\\xa7am plano para promover desenvolvimento sustent\\xc3\\xa1vel na Amaz\\xc3\\xb4nia '\n",
      "b'RT @leiamoneytimes: Minist\\xc3\\xa9rio da Sa\\xc3\\xbade usou apenas 1/3 de verba espec\\xc3\\xadfica para Covid-19, diz TCU\\n#coronav\\xc3\\xadrus #sa\\xc3\\xbade \\n '\n",
      "b'@leiamoneytimes O que tem que ser avaliado \\xc3\\xa9 se o gasto foi eficaz.'\n",
      "b'RT @leiamoneytimes: Senado aprova MP que concede aux\\xc3\\xadlio emergencial a artistas  #Coronav\\xc3\\xadrus #Cr\\xc3\\xa9dito #DistritoFede\\xe2\\x80\\xa6'\n",
      "b'RT @leiamoneytimes: &amp;#8220;Tecnologia 5G ser\\xc3\\xa1 o assunto de 2021\\xe2\\x80\\x9d, afirma F\\xc3\\xa1bio Faria  #Brasil #Economia #F\\xc3\\xa1bioFaria\\xe2\\x80\\xa6'\n",
      "b'@leiamoneytimes Lula ou Queiroz?'\n",
      "b'RT @infomoney: AO VIVO | Waldery Rodrigues conversa ao vivo com o InfoMoney sobre a volta das reformas e as respostas do governo \\xc3\\xa0 pandemia\\xe2\\x80\\xa6'\n",
      "b'RT @infomoney: Via Varejo desponta como preferida ante Magalu e B2W: as novas recomenda\\xc3\\xa7\\xc3\\xb5es ap\\xc3\\xb3s o salto das a\\xc3\\xa7\\xc3\\xb5es de e-commerce '\n",
      "b'RT @infomoney: Weg: \"tech\" brasileira salta 100% no ano e anima por diversifica\\xc3\\xa7\\xc3\\xa3o, mas pre\\xc3\\xa7o da a\\xc3\\xa7\\xc3\\xa3o assusta analistas '\n",
      "b'@infomoney Agora entendi pq o Santander n\\xc3\\xa3o queria pagar o RBVA11, pra juntar dinheiro pra um projeto sustent\\xc3\\xa1vel.'\n",
      "b'P\\xc3\\xa3o de A\\xc3\\xa7\\xc3\\xbacar vende mais 16 im\\xc3\\xb3veis para a TRX por R$ 446 milh\\xc3\\xb5es #p\\xc3\\xa3odea\\xc3\\xa7\\xc3\\xbacar #pcar3 '\n",
      "b'RT @leiamoneytimes: Senado aprova MP que concede aux\\xc3\\xadlio emergencial a artistas  #Coronav\\xc3\\xadrus #Cr\\xc3\\xa9dito #DistritoFede\\xe2\\x80\\xa6'\n",
      "b'Oi: Highline do Brasil bate Vivo, Tim e Claro e d\\xc3\\xa1 a melhor oferta pelos ativos m\\xc3\\xb3veis #oibr3 #oi '\n",
      "b'RT @leiamoneytimes: Oi: Highline do Brasil bate Vivo, Tim e Claro e d\\xc3\\xa1 a melhor oferta pelos ativos m\\xc3\\xb3veis #oibr3 #oi '\n",
      "b'RT @leiamoneytimes: Oi: Highline do Brasil bate Vivo, Tim e Claro e d\\xc3\\xa1 a melhor oferta pelos ativos m\\xc3\\xb3veis #oibr3 #oi '\n",
      "b'RT @leiamoneytimes: Oi: Highline do Brasil bate Vivo, Tim e Claro e d\\xc3\\xa1 a melhor oferta pelos ativos m\\xc3\\xb3veis #oibr3 #oi '\n",
      "b'RT @leiamoneytimes: Oi: Highline do Brasil bate Vivo, Tim e Claro e d\\xc3\\xa1 a melhor oferta pelos ativos m\\xc3\\xb3veis #oibr3 #oi '\n",
      "b'@leiamoneytimes Agora sim, sem entrave no Cade ou Anatel\\n\\n1\\xc2\\xba case de trade de PF que vai virar realidade\\n\\n\\xf0\\x9f\\x9a\\x80\\xf0\\x9f\\x9a\\x80\\xf0\\x9f\\x9a\\x80'\n",
      "b'RT @leiamoneytimes: Oi: Highline do Brasil bate Vivo, Tim e Claro e d\\xc3\\xa1 a melhor oferta pelos ativos m\\xc3\\xb3veis #oibr3 #oi '\n",
      "b'RT @leiamoneytimes: Oi: Highline do Brasil bate Vivo, Tim e Claro e d\\xc3\\xa1 a melhor oferta pelos ativos m\\xc3\\xb3veis #oibr3 #oi '\n",
      "b'RT @leiamoneytimes: Oi: Highline do Brasil bate Vivo, Tim e Claro e d\\xc3\\xa1 a melhor oferta pelos ativos m\\xc3\\xb3veis #oibr3 #oi '\n",
      "b'RT @infomoney: Bradesco, Ita\\xc3\\xba e Santander lan\\xc3\\xa7am plano para promover desenvolvimento sustent\\xc3\\xa1vel na Amaz\\xc3\\xb4nia '\n",
      "b'@leiamoneytimes @sergiosanita O que isso quer dizer?'\n",
      "b'Ap\\xc3\\xb3s adiamento por pandemia, Petrobras pagar\\xc3\\xa1 dividendos de 2019 em dezembro - '\n",
      "b'RT @leiamoneytimes: Oi: Highline do Brasil bate Vivo, Tim e Claro e d\\xc3\\xa1 a melhor oferta pelos ativos m\\xc3\\xb3veis #oibr3 #oi '\n",
      "b'Bento Albuquerque descartou a possibilidade de privatizar outras estatais vinculadas ao seu minist\\xc3\\xa9rio, como a Petr\\xe2\\x80\\xa6 '\n",
      "b'RT @leiamoneytimes: Oi: Highline do Brasil bate Vivo, Tim e Claro e d\\xc3\\xa1 a melhor oferta pelos ativos m\\xc3\\xb3veis #oibr3 #oi '\n",
      "b'Oi assina acordo de exclusividade com a Highline, da Digital Colony, para negociar sua rede m\\xc3\\xb3vel\\n\\n#OIBR3 #VIVT4\\xe2\\x80\\xa6 '\n",
      "b'RT @InvestingBrasil: Oi assina acordo de exclusividade com a Highline, da Digital Colony, para negociar sua rede m\\xc3\\xb3vel\\n\\n#OIBR3 #VIVT4 #TIMP\\xe2\\x80\\xa6'\n",
      "b'RT @leiamoneytimes: Oi: Highline do Brasil bate Vivo, Tim e Claro e d\\xc3\\xa1 a melhor oferta pelos ativos m\\xc3\\xb3veis #oibr3 #oi '\n",
      "b'RT @leiamoneytimes: Oi: Highline do Brasil bate Vivo, Tim e Claro e d\\xc3\\xa1 a melhor oferta pelos ativos m\\xc3\\xb3veis #oibr3 #oi '\n",
      "b'RT @InvestingBrasil: Oi assina acordo de exclusividade com a Highline, da Digital Colony, para negociar sua rede m\\xc3\\xb3vel\\n\\n#OIBR3 #VIVT4 #TIMP\\xe2\\x80\\xa6'\n",
      "b'RT @InvestingBrasil: Oi assina acordo de exclusividade com a Highline, da Digital Colony, para negociar sua rede m\\xc3\\xb3vel\\n\\n#OIBR3 #VIVT4 #TIMP\\xe2\\x80\\xa6'\n",
      "b'RT @InvestingBrasil: Oi assina acordo de exclusividade com a Highline, da Digital Colony, para negociar sua rede m\\xc3\\xb3vel\\n\\n#OIBR3 #VIVT4 #TIMP\\xe2\\x80\\xa6'\n",
      "b'@leiamoneytimes @sergiosanita Vai pra quanto mestre Sanita?'\n",
      "b'RT @leiamoneytimes: Oi: Highline do Brasil bate Vivo, Tim e Claro e d\\xc3\\xa1 a melhor oferta pelos ativos m\\xc3\\xb3veis #oibr3 #oi '\n",
      "b'@InvestingBrasil Tim, Vivo e Claro v\\xc3\\xa3o ter mais um concorrente? A Algar?'\n",
      "b'RT @InvestingBrasil: Oi assina acordo de exclusividade com a Highline, da Digital Colony, para negociar sua rede m\\xc3\\xb3vel\\n\\n#OIBR3 #VIVT4 #TIMP\\xe2\\x80\\xa6'\n"
     ]
    },
    {
     "name": "stdout",
     "output_type": "stream",
     "text": [
      "b'RT @leiamoneytimes: Oi: Highline do Brasil bate Vivo, Tim e Claro e d\\xc3\\xa1 a melhor oferta pelos ativos m\\xc3\\xb3veis #oibr3 #oi '\n",
      "b'@leiamoneytimes Est\\xc3\\xa1 na hora de reformular a qualidade dos carros, tamb\\xc3\\xa9m.'\n",
      "b'RT @InvestingBrasil: Oi assina acordo de exclusividade com a Highline, da Digital Colony, para negociar sua rede m\\xc3\\xb3vel\\n\\n#OIBR3 #VIVT4 #TIMP\\xe2\\x80\\xa6'\n",
      "b'@leiamoneytimes @sergiosanita Amanh\\xc3\\xa3 abre com gap em 2 reais.'\n",
      "b'RT @InvestingBrasil: Oi assina acordo de exclusividade com a Highline, da Digital Colony, para negociar sua rede m\\xc3\\xb3vel\\n\\n#OIBR3 #VIVT4 #TIMP\\xe2\\x80\\xa6'\n",
      "b'RT @InvestingBrasil: Oi assina acordo de exclusividade com a Highline, da Digital Colony, para negociar sua rede m\\xc3\\xb3vel\\n\\n#OIBR3 #VIVT4 #TIMP\\xe2\\x80\\xa6'\n",
      "b'RT @leiamoneytimes: Oi: Highline do Brasil bate Vivo, Tim e Claro e d\\xc3\\xa1 a melhor oferta pelos ativos m\\xc3\\xb3veis #oibr3 #oi '\n",
      "b'RT @leiamoneytimes: JHSF vai reabrir Hotel Fasano Angra dos Reis em 15 de agosto #JHSF3 #empresas #im\\xc3\\xb3veis #fasano #coronav\\xc3\\xadrus\\n'\n",
      "b'RT @InvestingBrasil: Oi assina acordo de exclusividade com a Highline, da Digital Colony, para negociar sua rede m\\xc3\\xb3vel\\n\\n#OIBR3 #VIVT4 #TIMP\\xe2\\x80\\xa6'\n",
      "b'RT @leiamoneytimes: Oi: Highline do Brasil bate Vivo, Tim e Claro e d\\xc3\\xa1 a melhor oferta pelos ativos m\\xc3\\xb3veis #oibr3 #oi '\n",
      "b'RT @InvestingBrasil: Oi assina acordo de exclusividade com a Highline, da Digital Colony, para negociar sua rede m\\xc3\\xb3vel\\n\\n#OIBR3 #VIVT4 #TIMP\\xe2\\x80\\xa6'\n",
      "b'RT @leiamoneytimes: Oi: Highline do Brasil bate Vivo, Tim e Claro e d\\xc3\\xa1 a melhor oferta pelos ativos m\\xc3\\xb3veis #oibr3 #oi '\n"
     ]
    },
    {
     "ename": "KeyboardInterrupt",
     "evalue": "",
     "output_type": "error",
     "traceback": [
      "\u001b[0;31m---------------------------------------------------------------------------\u001b[0m",
      "\u001b[0;31mKeyboardInterrupt\u001b[0m                         Traceback (most recent call last)",
      "\u001b[0;32m<ipython-input-9-02476062591a>\u001b[0m in \u001b[0;36m<module>\u001b[0;34m\u001b[0m\n\u001b[0;32m----> 1\u001b[0;31m \u001b[0msendData\u001b[0m\u001b[0;34m(\u001b[0m \u001b[0mc\u001b[0m \u001b[0;34m)\u001b[0m\u001b[0;34m\u001b[0m\u001b[0;34m\u001b[0m\u001b[0m\n\u001b[0m",
      "\u001b[0;32m<ipython-input-6-d98875faa7b5>\u001b[0m in \u001b[0;36msendData\u001b[0;34m(c_socket)\u001b[0m\n\u001b[1;32m      3\u001b[0m     \u001b[0mauth\u001b[0m\u001b[0;34m.\u001b[0m\u001b[0mset_access_token\u001b[0m\u001b[0;34m(\u001b[0m\u001b[0maccess_token\u001b[0m\u001b[0;34m,\u001b[0m \u001b[0maccess_secret\u001b[0m\u001b[0;34m)\u001b[0m\u001b[0;34m\u001b[0m\u001b[0;34m\u001b[0m\u001b[0m\n\u001b[1;32m      4\u001b[0m     \u001b[0mtwitter_stream\u001b[0m \u001b[0;34m=\u001b[0m \u001b[0mStream\u001b[0m\u001b[0;34m(\u001b[0m\u001b[0mauth\u001b[0m\u001b[0;34m,\u001b[0m \u001b[0mTweetListener\u001b[0m\u001b[0;34m(\u001b[0m\u001b[0mc_socket\u001b[0m\u001b[0;34m)\u001b[0m\u001b[0;34m)\u001b[0m\u001b[0;34m\u001b[0m\u001b[0;34m\u001b[0m\u001b[0m\n\u001b[0;32m----> 5\u001b[0;31m     \u001b[0mtwitter_stream\u001b[0m\u001b[0;34m.\u001b[0m\u001b[0mfilter\u001b[0m\u001b[0;34m(\u001b[0m\u001b[0mlanguages\u001b[0m\u001b[0;34m=\u001b[0m\u001b[0;34m[\u001b[0m\u001b[0;34m\"pt\"\u001b[0m\u001b[0;34m]\u001b[0m\u001b[0;34m,\u001b[0m\u001b[0mfollow\u001b[0m\u001b[0;34m=\u001b[0m\u001b[0mfollow_busca\u001b[0m\u001b[0;34m)\u001b[0m\u001b[0;34m\u001b[0m\u001b[0;34m\u001b[0m\u001b[0m\n\u001b[0m",
      "\u001b[0;32m~/anaconda3/lib/python3.7/site-packages/tweepy/streaming.py\u001b[0m in \u001b[0;36mfilter\u001b[0;34m(self, follow, track, is_async, locations, stall_warnings, languages, encoding, filter_level)\u001b[0m\n\u001b[1;32m    472\u001b[0m             \u001b[0mself\u001b[0m\u001b[0;34m.\u001b[0m\u001b[0mbody\u001b[0m\u001b[0;34m[\u001b[0m\u001b[0;34m'filter_level'\u001b[0m\u001b[0;34m]\u001b[0m \u001b[0;34m=\u001b[0m \u001b[0mfilter_level\u001b[0m\u001b[0;34m.\u001b[0m\u001b[0mencode\u001b[0m\u001b[0;34m(\u001b[0m\u001b[0mencoding\u001b[0m\u001b[0;34m)\u001b[0m\u001b[0;34m\u001b[0m\u001b[0;34m\u001b[0m\u001b[0m\n\u001b[1;32m    473\u001b[0m         \u001b[0mself\u001b[0m\u001b[0;34m.\u001b[0m\u001b[0msession\u001b[0m\u001b[0;34m.\u001b[0m\u001b[0mparams\u001b[0m \u001b[0;34m=\u001b[0m \u001b[0;34m{\u001b[0m\u001b[0;34m'delimited'\u001b[0m\u001b[0;34m:\u001b[0m \u001b[0;34m'length'\u001b[0m\u001b[0;34m}\u001b[0m\u001b[0;34m\u001b[0m\u001b[0;34m\u001b[0m\u001b[0m\n\u001b[0;32m--> 474\u001b[0;31m         \u001b[0mself\u001b[0m\u001b[0;34m.\u001b[0m\u001b[0m_start\u001b[0m\u001b[0;34m(\u001b[0m\u001b[0mis_async\u001b[0m\u001b[0;34m)\u001b[0m\u001b[0;34m\u001b[0m\u001b[0;34m\u001b[0m\u001b[0m\n\u001b[0m\u001b[1;32m    475\u001b[0m \u001b[0;34m\u001b[0m\u001b[0m\n\u001b[1;32m    476\u001b[0m     def sitestream(self, follow, stall_warnings=False,\n",
      "\u001b[0;32m~/anaconda3/lib/python3.7/site-packages/tweepy/streaming.py\u001b[0m in \u001b[0;36m_start\u001b[0;34m(self, is_async)\u001b[0m\n\u001b[1;32m    387\u001b[0m             \u001b[0mself\u001b[0m\u001b[0;34m.\u001b[0m\u001b[0m_thread\u001b[0m\u001b[0;34m.\u001b[0m\u001b[0mstart\u001b[0m\u001b[0;34m(\u001b[0m\u001b[0;34m)\u001b[0m\u001b[0;34m\u001b[0m\u001b[0;34m\u001b[0m\u001b[0m\n\u001b[1;32m    388\u001b[0m         \u001b[0;32melse\u001b[0m\u001b[0;34m:\u001b[0m\u001b[0;34m\u001b[0m\u001b[0;34m\u001b[0m\u001b[0m\n\u001b[0;32m--> 389\u001b[0;31m             \u001b[0mself\u001b[0m\u001b[0;34m.\u001b[0m\u001b[0m_run\u001b[0m\u001b[0;34m(\u001b[0m\u001b[0;34m)\u001b[0m\u001b[0;34m\u001b[0m\u001b[0;34m\u001b[0m\u001b[0m\n\u001b[0m\u001b[1;32m    390\u001b[0m \u001b[0;34m\u001b[0m\u001b[0m\n\u001b[1;32m    391\u001b[0m     \u001b[0;32mdef\u001b[0m \u001b[0mon_closed\u001b[0m\u001b[0;34m(\u001b[0m\u001b[0mself\u001b[0m\u001b[0;34m,\u001b[0m \u001b[0mresp\u001b[0m\u001b[0;34m)\u001b[0m\u001b[0;34m:\u001b[0m\u001b[0;34m\u001b[0m\u001b[0;34m\u001b[0m\u001b[0m\n",
      "\u001b[0;32m~/anaconda3/lib/python3.7/site-packages/tweepy/streaming.py\u001b[0m in \u001b[0;36m_run\u001b[0;34m(self)\u001b[0m\n\u001b[1;32m    287\u001b[0m                     \u001b[0mself\u001b[0m\u001b[0;34m.\u001b[0m\u001b[0msnooze_time\u001b[0m \u001b[0;34m=\u001b[0m \u001b[0mself\u001b[0m\u001b[0;34m.\u001b[0m\u001b[0msnooze_time_step\u001b[0m\u001b[0;34m\u001b[0m\u001b[0;34m\u001b[0m\u001b[0m\n\u001b[1;32m    288\u001b[0m                     \u001b[0mself\u001b[0m\u001b[0;34m.\u001b[0m\u001b[0mlistener\u001b[0m\u001b[0;34m.\u001b[0m\u001b[0mon_connect\u001b[0m\u001b[0;34m(\u001b[0m\u001b[0;34m)\u001b[0m\u001b[0;34m\u001b[0m\u001b[0;34m\u001b[0m\u001b[0m\n\u001b[0;32m--> 289\u001b[0;31m                     \u001b[0mself\u001b[0m\u001b[0;34m.\u001b[0m\u001b[0m_read_loop\u001b[0m\u001b[0;34m(\u001b[0m\u001b[0mresp\u001b[0m\u001b[0;34m)\u001b[0m\u001b[0;34m\u001b[0m\u001b[0;34m\u001b[0m\u001b[0m\n\u001b[0m\u001b[1;32m    290\u001b[0m             \u001b[0;32mexcept\u001b[0m \u001b[0;34m(\u001b[0m\u001b[0mTimeout\u001b[0m\u001b[0;34m,\u001b[0m \u001b[0mssl\u001b[0m\u001b[0;34m.\u001b[0m\u001b[0mSSLError\u001b[0m\u001b[0;34m)\u001b[0m \u001b[0;32mas\u001b[0m \u001b[0mexc\u001b[0m\u001b[0;34m:\u001b[0m\u001b[0;34m\u001b[0m\u001b[0;34m\u001b[0m\u001b[0m\n\u001b[1;32m    291\u001b[0m                 \u001b[0;31m# This is still necessary, as a SSLError can actually be\u001b[0m\u001b[0;34m\u001b[0m\u001b[0;34m\u001b[0m\u001b[0;34m\u001b[0m\u001b[0m\n",
      "\u001b[0;32m~/anaconda3/lib/python3.7/site-packages/tweepy/streaming.py\u001b[0m in \u001b[0;36m_read_loop\u001b[0;34m(self, resp)\u001b[0m\n\u001b[1;32m    337\u001b[0m             \u001b[0mlength\u001b[0m \u001b[0;34m=\u001b[0m \u001b[0;36m0\u001b[0m\u001b[0;34m\u001b[0m\u001b[0;34m\u001b[0m\u001b[0m\n\u001b[1;32m    338\u001b[0m             \u001b[0;32mwhile\u001b[0m \u001b[0;32mnot\u001b[0m \u001b[0mresp\u001b[0m\u001b[0;34m.\u001b[0m\u001b[0mraw\u001b[0m\u001b[0;34m.\u001b[0m\u001b[0mclosed\u001b[0m\u001b[0;34m:\u001b[0m\u001b[0;34m\u001b[0m\u001b[0;34m\u001b[0m\u001b[0m\n\u001b[0;32m--> 339\u001b[0;31m                 \u001b[0mline\u001b[0m \u001b[0;34m=\u001b[0m \u001b[0mbuf\u001b[0m\u001b[0;34m.\u001b[0m\u001b[0mread_line\u001b[0m\u001b[0;34m(\u001b[0m\u001b[0;34m)\u001b[0m\u001b[0;34m\u001b[0m\u001b[0;34m\u001b[0m\u001b[0m\n\u001b[0m\u001b[1;32m    340\u001b[0m                 \u001b[0mstripped_line\u001b[0m \u001b[0;34m=\u001b[0m \u001b[0mline\u001b[0m\u001b[0;34m.\u001b[0m\u001b[0mstrip\u001b[0m\u001b[0;34m(\u001b[0m\u001b[0;34m)\u001b[0m \u001b[0;32mif\u001b[0m \u001b[0mline\u001b[0m \u001b[0;32melse\u001b[0m \u001b[0mline\u001b[0m \u001b[0;31m# line is sometimes None so we need to check here\u001b[0m\u001b[0;34m\u001b[0m\u001b[0;34m\u001b[0m\u001b[0m\n\u001b[1;32m    341\u001b[0m                 \u001b[0;32mif\u001b[0m \u001b[0;32mnot\u001b[0m \u001b[0mstripped_line\u001b[0m\u001b[0;34m:\u001b[0m\u001b[0;34m\u001b[0m\u001b[0;34m\u001b[0m\u001b[0m\n",
      "\u001b[0;32m~/anaconda3/lib/python3.7/site-packages/tweepy/streaming.py\u001b[0m in \u001b[0;36mread_line\u001b[0;34m(self, sep)\u001b[0m\n\u001b[1;32m    198\u001b[0m             \u001b[0;32melse\u001b[0m\u001b[0;34m:\u001b[0m\u001b[0;34m\u001b[0m\u001b[0;34m\u001b[0m\u001b[0m\n\u001b[1;32m    199\u001b[0m                 \u001b[0mstart\u001b[0m \u001b[0;34m=\u001b[0m \u001b[0mlen\u001b[0m\u001b[0;34m(\u001b[0m\u001b[0mself\u001b[0m\u001b[0;34m.\u001b[0m\u001b[0m_buffer\u001b[0m\u001b[0;34m)\u001b[0m\u001b[0;34m\u001b[0m\u001b[0;34m\u001b[0m\u001b[0m\n\u001b[0;32m--> 200\u001b[0;31m             \u001b[0mself\u001b[0m\u001b[0;34m.\u001b[0m\u001b[0m_buffer\u001b[0m \u001b[0;34m+=\u001b[0m \u001b[0mself\u001b[0m\u001b[0;34m.\u001b[0m\u001b[0m_stream\u001b[0m\u001b[0;34m.\u001b[0m\u001b[0mread\u001b[0m\u001b[0;34m(\u001b[0m\u001b[0mself\u001b[0m\u001b[0;34m.\u001b[0m\u001b[0m_chunk_size\u001b[0m\u001b[0;34m)\u001b[0m\u001b[0;34m\u001b[0m\u001b[0;34m\u001b[0m\u001b[0m\n\u001b[0m\u001b[1;32m    201\u001b[0m         \u001b[0;32mreturn\u001b[0m \u001b[0msix\u001b[0m\u001b[0;34m.\u001b[0m\u001b[0mb\u001b[0m\u001b[0;34m(\u001b[0m\u001b[0;34m''\u001b[0m\u001b[0;34m)\u001b[0m\u001b[0;34m\u001b[0m\u001b[0;34m\u001b[0m\u001b[0m\n\u001b[1;32m    202\u001b[0m \u001b[0;34m\u001b[0m\u001b[0m\n",
      "\u001b[0;32m~/anaconda3/lib/python3.7/site-packages/urllib3/response.py\u001b[0m in \u001b[0;36mread\u001b[0;34m(self, amt, decode_content, cache_content)\u001b[0m\n\u001b[1;32m    517\u001b[0m             \u001b[0;32melse\u001b[0m\u001b[0;34m:\u001b[0m\u001b[0;34m\u001b[0m\u001b[0;34m\u001b[0m\u001b[0m\n\u001b[1;32m    518\u001b[0m                 \u001b[0mcache_content\u001b[0m \u001b[0;34m=\u001b[0m \u001b[0;32mFalse\u001b[0m\u001b[0;34m\u001b[0m\u001b[0;34m\u001b[0m\u001b[0m\n\u001b[0;32m--> 519\u001b[0;31m                 \u001b[0mdata\u001b[0m \u001b[0;34m=\u001b[0m \u001b[0mself\u001b[0m\u001b[0;34m.\u001b[0m\u001b[0m_fp\u001b[0m\u001b[0;34m.\u001b[0m\u001b[0mread\u001b[0m\u001b[0;34m(\u001b[0m\u001b[0mamt\u001b[0m\u001b[0;34m)\u001b[0m \u001b[0;32mif\u001b[0m \u001b[0;32mnot\u001b[0m \u001b[0mfp_closed\u001b[0m \u001b[0;32melse\u001b[0m \u001b[0;34mb\"\"\u001b[0m\u001b[0;34m\u001b[0m\u001b[0;34m\u001b[0m\u001b[0m\n\u001b[0m\u001b[1;32m    520\u001b[0m                 if (\n\u001b[1;32m    521\u001b[0m                     \u001b[0mamt\u001b[0m \u001b[0;34m!=\u001b[0m \u001b[0;36m0\u001b[0m \u001b[0;32mand\u001b[0m \u001b[0;32mnot\u001b[0m \u001b[0mdata\u001b[0m\u001b[0;34m\u001b[0m\u001b[0;34m\u001b[0m\u001b[0m\n",
      "\u001b[0;32m~/anaconda3/lib/python3.7/http/client.py\u001b[0m in \u001b[0;36mread\u001b[0;34m(self, amt)\u001b[0m\n\u001b[1;32m    455\u001b[0m             \u001b[0;31m# Amount is given, implement using readinto\u001b[0m\u001b[0;34m\u001b[0m\u001b[0;34m\u001b[0m\u001b[0;34m\u001b[0m\u001b[0m\n\u001b[1;32m    456\u001b[0m             \u001b[0mb\u001b[0m \u001b[0;34m=\u001b[0m \u001b[0mbytearray\u001b[0m\u001b[0;34m(\u001b[0m\u001b[0mamt\u001b[0m\u001b[0;34m)\u001b[0m\u001b[0;34m\u001b[0m\u001b[0;34m\u001b[0m\u001b[0m\n\u001b[0;32m--> 457\u001b[0;31m             \u001b[0mn\u001b[0m \u001b[0;34m=\u001b[0m \u001b[0mself\u001b[0m\u001b[0;34m.\u001b[0m\u001b[0mreadinto\u001b[0m\u001b[0;34m(\u001b[0m\u001b[0mb\u001b[0m\u001b[0;34m)\u001b[0m\u001b[0;34m\u001b[0m\u001b[0;34m\u001b[0m\u001b[0m\n\u001b[0m\u001b[1;32m    458\u001b[0m             \u001b[0;32mreturn\u001b[0m \u001b[0mmemoryview\u001b[0m\u001b[0;34m(\u001b[0m\u001b[0mb\u001b[0m\u001b[0;34m)\u001b[0m\u001b[0;34m[\u001b[0m\u001b[0;34m:\u001b[0m\u001b[0mn\u001b[0m\u001b[0;34m]\u001b[0m\u001b[0;34m.\u001b[0m\u001b[0mtobytes\u001b[0m\u001b[0;34m(\u001b[0m\u001b[0;34m)\u001b[0m\u001b[0;34m\u001b[0m\u001b[0;34m\u001b[0m\u001b[0m\n\u001b[1;32m    459\u001b[0m         \u001b[0;32melse\u001b[0m\u001b[0;34m:\u001b[0m\u001b[0;34m\u001b[0m\u001b[0;34m\u001b[0m\u001b[0m\n",
      "\u001b[0;32m~/anaconda3/lib/python3.7/http/client.py\u001b[0m in \u001b[0;36mreadinto\u001b[0;34m(self, b)\u001b[0m\n\u001b[1;32m    489\u001b[0m \u001b[0;34m\u001b[0m\u001b[0m\n\u001b[1;32m    490\u001b[0m         \u001b[0;32mif\u001b[0m \u001b[0mself\u001b[0m\u001b[0;34m.\u001b[0m\u001b[0mchunked\u001b[0m\u001b[0;34m:\u001b[0m\u001b[0;34m\u001b[0m\u001b[0;34m\u001b[0m\u001b[0m\n\u001b[0;32m--> 491\u001b[0;31m             \u001b[0;32mreturn\u001b[0m \u001b[0mself\u001b[0m\u001b[0;34m.\u001b[0m\u001b[0m_readinto_chunked\u001b[0m\u001b[0;34m(\u001b[0m\u001b[0mb\u001b[0m\u001b[0;34m)\u001b[0m\u001b[0;34m\u001b[0m\u001b[0;34m\u001b[0m\u001b[0m\n\u001b[0m\u001b[1;32m    492\u001b[0m \u001b[0;34m\u001b[0m\u001b[0m\n\u001b[1;32m    493\u001b[0m         \u001b[0;32mif\u001b[0m \u001b[0mself\u001b[0m\u001b[0;34m.\u001b[0m\u001b[0mlength\u001b[0m \u001b[0;32mis\u001b[0m \u001b[0;32mnot\u001b[0m \u001b[0;32mNone\u001b[0m\u001b[0;34m:\u001b[0m\u001b[0;34m\u001b[0m\u001b[0;34m\u001b[0m\u001b[0m\n",
      "\u001b[0;32m~/anaconda3/lib/python3.7/http/client.py\u001b[0m in \u001b[0;36m_readinto_chunked\u001b[0;34m(self, b)\u001b[0m\n\u001b[1;32m    584\u001b[0m         \u001b[0;32mtry\u001b[0m\u001b[0;34m:\u001b[0m\u001b[0;34m\u001b[0m\u001b[0;34m\u001b[0m\u001b[0m\n\u001b[1;32m    585\u001b[0m             \u001b[0;32mwhile\u001b[0m \u001b[0;32mTrue\u001b[0m\u001b[0;34m:\u001b[0m\u001b[0;34m\u001b[0m\u001b[0;34m\u001b[0m\u001b[0m\n\u001b[0;32m--> 586\u001b[0;31m                 \u001b[0mchunk_left\u001b[0m \u001b[0;34m=\u001b[0m \u001b[0mself\u001b[0m\u001b[0;34m.\u001b[0m\u001b[0m_get_chunk_left\u001b[0m\u001b[0;34m(\u001b[0m\u001b[0;34m)\u001b[0m\u001b[0;34m\u001b[0m\u001b[0;34m\u001b[0m\u001b[0m\n\u001b[0m\u001b[1;32m    587\u001b[0m                 \u001b[0;32mif\u001b[0m \u001b[0mchunk_left\u001b[0m \u001b[0;32mis\u001b[0m \u001b[0;32mNone\u001b[0m\u001b[0;34m:\u001b[0m\u001b[0;34m\u001b[0m\u001b[0;34m\u001b[0m\u001b[0m\n\u001b[1;32m    588\u001b[0m                     \u001b[0;32mreturn\u001b[0m \u001b[0mtotal_bytes\u001b[0m\u001b[0;34m\u001b[0m\u001b[0;34m\u001b[0m\u001b[0m\n",
      "\u001b[0;32m~/anaconda3/lib/python3.7/http/client.py\u001b[0m in \u001b[0;36m_get_chunk_left\u001b[0;34m(self)\u001b[0m\n\u001b[1;32m    552\u001b[0m                 \u001b[0mself\u001b[0m\u001b[0;34m.\u001b[0m\u001b[0m_safe_read\u001b[0m\u001b[0;34m(\u001b[0m\u001b[0;36m2\u001b[0m\u001b[0;34m)\u001b[0m  \u001b[0;31m# toss the CRLF at the end of the chunk\u001b[0m\u001b[0;34m\u001b[0m\u001b[0;34m\u001b[0m\u001b[0m\n\u001b[1;32m    553\u001b[0m             \u001b[0;32mtry\u001b[0m\u001b[0;34m:\u001b[0m\u001b[0;34m\u001b[0m\u001b[0;34m\u001b[0m\u001b[0m\n\u001b[0;32m--> 554\u001b[0;31m                 \u001b[0mchunk_left\u001b[0m \u001b[0;34m=\u001b[0m \u001b[0mself\u001b[0m\u001b[0;34m.\u001b[0m\u001b[0m_read_next_chunk_size\u001b[0m\u001b[0;34m(\u001b[0m\u001b[0;34m)\u001b[0m\u001b[0;34m\u001b[0m\u001b[0;34m\u001b[0m\u001b[0m\n\u001b[0m\u001b[1;32m    555\u001b[0m             \u001b[0;32mexcept\u001b[0m \u001b[0mValueError\u001b[0m\u001b[0;34m:\u001b[0m\u001b[0;34m\u001b[0m\u001b[0;34m\u001b[0m\u001b[0m\n\u001b[1;32m    556\u001b[0m                 \u001b[0;32mraise\u001b[0m \u001b[0mIncompleteRead\u001b[0m\u001b[0;34m(\u001b[0m\u001b[0;34mb''\u001b[0m\u001b[0;34m)\u001b[0m\u001b[0;34m\u001b[0m\u001b[0;34m\u001b[0m\u001b[0m\n",
      "\u001b[0;32m~/anaconda3/lib/python3.7/http/client.py\u001b[0m in \u001b[0;36m_read_next_chunk_size\u001b[0;34m(self)\u001b[0m\n\u001b[1;32m    512\u001b[0m     \u001b[0;32mdef\u001b[0m \u001b[0m_read_next_chunk_size\u001b[0m\u001b[0;34m(\u001b[0m\u001b[0mself\u001b[0m\u001b[0;34m)\u001b[0m\u001b[0;34m:\u001b[0m\u001b[0;34m\u001b[0m\u001b[0;34m\u001b[0m\u001b[0m\n\u001b[1;32m    513\u001b[0m         \u001b[0;31m# Read the next chunk size from the file\u001b[0m\u001b[0;34m\u001b[0m\u001b[0;34m\u001b[0m\u001b[0;34m\u001b[0m\u001b[0m\n\u001b[0;32m--> 514\u001b[0;31m         \u001b[0mline\u001b[0m \u001b[0;34m=\u001b[0m \u001b[0mself\u001b[0m\u001b[0;34m.\u001b[0m\u001b[0mfp\u001b[0m\u001b[0;34m.\u001b[0m\u001b[0mreadline\u001b[0m\u001b[0;34m(\u001b[0m\u001b[0m_MAXLINE\u001b[0m \u001b[0;34m+\u001b[0m \u001b[0;36m1\u001b[0m\u001b[0;34m)\u001b[0m\u001b[0;34m\u001b[0m\u001b[0;34m\u001b[0m\u001b[0m\n\u001b[0m\u001b[1;32m    515\u001b[0m         \u001b[0;32mif\u001b[0m \u001b[0mlen\u001b[0m\u001b[0;34m(\u001b[0m\u001b[0mline\u001b[0m\u001b[0;34m)\u001b[0m \u001b[0;34m>\u001b[0m \u001b[0m_MAXLINE\u001b[0m\u001b[0;34m:\u001b[0m\u001b[0;34m\u001b[0m\u001b[0;34m\u001b[0m\u001b[0m\n\u001b[1;32m    516\u001b[0m             \u001b[0;32mraise\u001b[0m \u001b[0mLineTooLong\u001b[0m\u001b[0;34m(\u001b[0m\u001b[0;34m\"chunk size\"\u001b[0m\u001b[0;34m)\u001b[0m\u001b[0;34m\u001b[0m\u001b[0;34m\u001b[0m\u001b[0m\n",
      "\u001b[0;32m~/anaconda3/lib/python3.7/socket.py\u001b[0m in \u001b[0;36mreadinto\u001b[0;34m(self, b)\u001b[0m\n\u001b[1;32m    587\u001b[0m         \u001b[0;32mwhile\u001b[0m \u001b[0;32mTrue\u001b[0m\u001b[0;34m:\u001b[0m\u001b[0;34m\u001b[0m\u001b[0;34m\u001b[0m\u001b[0m\n\u001b[1;32m    588\u001b[0m             \u001b[0;32mtry\u001b[0m\u001b[0;34m:\u001b[0m\u001b[0;34m\u001b[0m\u001b[0;34m\u001b[0m\u001b[0m\n\u001b[0;32m--> 589\u001b[0;31m                 \u001b[0;32mreturn\u001b[0m \u001b[0mself\u001b[0m\u001b[0;34m.\u001b[0m\u001b[0m_sock\u001b[0m\u001b[0;34m.\u001b[0m\u001b[0mrecv_into\u001b[0m\u001b[0;34m(\u001b[0m\u001b[0mb\u001b[0m\u001b[0;34m)\u001b[0m\u001b[0;34m\u001b[0m\u001b[0;34m\u001b[0m\u001b[0m\n\u001b[0m\u001b[1;32m    590\u001b[0m             \u001b[0;32mexcept\u001b[0m \u001b[0mtimeout\u001b[0m\u001b[0;34m:\u001b[0m\u001b[0;34m\u001b[0m\u001b[0;34m\u001b[0m\u001b[0m\n\u001b[1;32m    591\u001b[0m                 \u001b[0mself\u001b[0m\u001b[0;34m.\u001b[0m\u001b[0m_timeout_occurred\u001b[0m \u001b[0;34m=\u001b[0m \u001b[0;32mTrue\u001b[0m\u001b[0;34m\u001b[0m\u001b[0;34m\u001b[0m\u001b[0m\n",
      "\u001b[0;32m~/anaconda3/lib/python3.7/ssl.py\u001b[0m in \u001b[0;36mrecv_into\u001b[0;34m(self, buffer, nbytes, flags)\u001b[0m\n\u001b[1;32m   1069\u001b[0m                   \u001b[0;34m\"non-zero flags not allowed in calls to recv_into() on %s\"\u001b[0m \u001b[0;34m%\u001b[0m\u001b[0;34m\u001b[0m\u001b[0;34m\u001b[0m\u001b[0m\n\u001b[1;32m   1070\u001b[0m                   self.__class__)\n\u001b[0;32m-> 1071\u001b[0;31m             \u001b[0;32mreturn\u001b[0m \u001b[0mself\u001b[0m\u001b[0;34m.\u001b[0m\u001b[0mread\u001b[0m\u001b[0;34m(\u001b[0m\u001b[0mnbytes\u001b[0m\u001b[0;34m,\u001b[0m \u001b[0mbuffer\u001b[0m\u001b[0;34m)\u001b[0m\u001b[0;34m\u001b[0m\u001b[0;34m\u001b[0m\u001b[0m\n\u001b[0m\u001b[1;32m   1072\u001b[0m         \u001b[0;32melse\u001b[0m\u001b[0;34m:\u001b[0m\u001b[0;34m\u001b[0m\u001b[0;34m\u001b[0m\u001b[0m\n\u001b[1;32m   1073\u001b[0m             \u001b[0;32mreturn\u001b[0m \u001b[0msuper\u001b[0m\u001b[0;34m(\u001b[0m\u001b[0;34m)\u001b[0m\u001b[0;34m.\u001b[0m\u001b[0mrecv_into\u001b[0m\u001b[0;34m(\u001b[0m\u001b[0mbuffer\u001b[0m\u001b[0;34m,\u001b[0m \u001b[0mnbytes\u001b[0m\u001b[0;34m,\u001b[0m \u001b[0mflags\u001b[0m\u001b[0;34m)\u001b[0m\u001b[0;34m\u001b[0m\u001b[0;34m\u001b[0m\u001b[0m\n",
      "\u001b[0;32m~/anaconda3/lib/python3.7/ssl.py\u001b[0m in \u001b[0;36mread\u001b[0;34m(self, len, buffer)\u001b[0m\n\u001b[1;32m    927\u001b[0m         \u001b[0;32mtry\u001b[0m\u001b[0;34m:\u001b[0m\u001b[0;34m\u001b[0m\u001b[0;34m\u001b[0m\u001b[0m\n\u001b[1;32m    928\u001b[0m             \u001b[0;32mif\u001b[0m \u001b[0mbuffer\u001b[0m \u001b[0;32mis\u001b[0m \u001b[0;32mnot\u001b[0m \u001b[0;32mNone\u001b[0m\u001b[0;34m:\u001b[0m\u001b[0;34m\u001b[0m\u001b[0;34m\u001b[0m\u001b[0m\n\u001b[0;32m--> 929\u001b[0;31m                 \u001b[0;32mreturn\u001b[0m \u001b[0mself\u001b[0m\u001b[0;34m.\u001b[0m\u001b[0m_sslobj\u001b[0m\u001b[0;34m.\u001b[0m\u001b[0mread\u001b[0m\u001b[0;34m(\u001b[0m\u001b[0mlen\u001b[0m\u001b[0;34m,\u001b[0m \u001b[0mbuffer\u001b[0m\u001b[0;34m)\u001b[0m\u001b[0;34m\u001b[0m\u001b[0;34m\u001b[0m\u001b[0m\n\u001b[0m\u001b[1;32m    930\u001b[0m             \u001b[0;32melse\u001b[0m\u001b[0;34m:\u001b[0m\u001b[0;34m\u001b[0m\u001b[0;34m\u001b[0m\u001b[0m\n\u001b[1;32m    931\u001b[0m                 \u001b[0;32mreturn\u001b[0m \u001b[0mself\u001b[0m\u001b[0;34m.\u001b[0m\u001b[0m_sslobj\u001b[0m\u001b[0;34m.\u001b[0m\u001b[0mread\u001b[0m\u001b[0;34m(\u001b[0m\u001b[0mlen\u001b[0m\u001b[0;34m)\u001b[0m\u001b[0;34m\u001b[0m\u001b[0;34m\u001b[0m\u001b[0m\n",
      "\u001b[0;31mKeyboardInterrupt\u001b[0m: "
     ]
    }
   ],
   "source": [
    "sendData( c )"
   ]
  },
  {
   "cell_type": "markdown",
   "metadata": {},
   "source": [
    "### Store raw_data in HDFS"
   ]
  },
  {
   "cell_type": "code",
   "execution_count": 10,
   "metadata": {},
   "outputs": [],
   "source": [
    "! /home/vineasouza/hadoop/bin/hadoop fs -put -f /home/vineasouza/Documentos/GitLab/pvi2019080000223/codes/final/raw_data.json /user/input/sentiment_result"
   ]
  },
  {
   "cell_type": "code",
   "execution_count": null,
   "metadata": {
    "scrolled": true
   },
   "outputs": [],
   "source": []
  }
 ],
 "metadata": {
  "kernelspec": {
   "display_name": "Python 3",
   "language": "python",
   "name": "python3"
  },
  "language_info": {
   "codemirror_mode": {
    "name": "ipython",
    "version": 3
   },
   "file_extension": ".py",
   "mimetype": "text/x-python",
   "name": "python",
   "nbconvert_exporter": "python",
   "pygments_lexer": "ipython3",
   "version": "3.7.7"
  }
 },
 "nbformat": 4,
 "nbformat_minor": 4
}
